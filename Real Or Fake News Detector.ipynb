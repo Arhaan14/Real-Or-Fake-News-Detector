{
 "cells": [
  {
   "cell_type": "code",
   "execution_count": 6,
   "id": "6fc90ea1",
   "metadata": {},
   "outputs": [
    {
     "name": "stdout",
     "output_type": "stream",
     "text": [
      "Accuracy: 0.9387527839643652\n",
      "Classification Report:\n",
      "               precision    recall  f1-score   support\n",
      "\n",
      "           0       0.94      0.93      0.94      4330\n",
      "           1       0.93      0.95      0.94      4650\n",
      "\n",
      "    accuracy                           0.94      8980\n",
      "   macro avg       0.94      0.94      0.94      8980\n",
      "weighted avg       0.94      0.94      0.94      8980\n",
      "\n",
      "Enter a news article: Exclusive: U.S. to withhold up to $290 million in Egypt aid\n",
      "The news is likely to be true.\n"
     ]
    }
   ],
   "source": [
    "import pandas as pd\n",
    "from sklearn.model_selection import train_test_split\n",
    "from sklearn.feature_extraction.text import TfidfVectorizer\n",
    "from sklearn.naive_bayes import MultinomialNB\n",
    "from sklearn.pipeline import make_pipeline\n",
    "from sklearn.metrics import accuracy_score, classification_report\n",
    "\n",
    "# Load true news dataset\n",
    "true_df = pd.read_csv(r'C:\\Users\\elvis\\Downloads\\Running Projects\\Fake-news-datasets\\News _dataset\\True.csv')\n",
    "true_df['label'] = 0  # Add a label column for true news\n",
    "\n",
    "# Load fake news dataset\n",
    "fake_df = pd.read_csv(r'C:\\Users\\elvis\\Downloads\\Running Projects\\Fake-news-datasets\\News _dataset\\Fake.csv')\n",
    "fake_df['label'] = 1  # Add a label column for fake news\n",
    "\n",
    "# Combine the datasets\n",
    "df = pd.concat([true_df, fake_df], ignore_index=True)\n",
    "\n",
    "# Split the data into training and testing sets\n",
    "X_train, X_test, y_train, y_test = train_test_split(df['text'], df['label'], test_size=0.2, random_state=42)\n",
    "\n",
    "model = make_pipeline(TfidfVectorizer(), MultinomialNB())\n",
    "model.fit(X_train, y_train)\n",
    "\n",
    "# Make predictions on the test set\n",
    "predictions = model.predict(X_test)\n",
    "\n",
    "# Evaluate the model\n",
    "accuracy = accuracy_score(y_test, predictions)\n",
    "classification_report_result = classification_report(y_test, predictions)\n",
    "\n",
    "# Display the result\n",
    "print(f'Accuracy: {accuracy}')\n",
    "print('Classification Report:\\n', classification_report_result)\n",
    "\n",
    "user_input = input(\"Enter a news article: \")\n",
    "\n",
    "# Make a prediction\n",
    "prediction = model.predict([user_input])\n",
    "\n",
    "# Display the result\n",
    "if prediction[0] == 0:\n",
    "    print(\"The news is likely to be true.\")\n",
    "else:\n",
    "    print(\"The news is likely to be fake.\")"
   ]
  },
  {
   "cell_type": "code",
   "execution_count": null,
   "id": "e03f6db6",
   "metadata": {},
   "outputs": [],
   "source": []
  }
 ],
 "metadata": {
  "kernelspec": {
   "display_name": "Python 3 (ipykernel)",
   "language": "python",
   "name": "python3"
  },
  "language_info": {
   "codemirror_mode": {
    "name": "ipython",
    "version": 3
   },
   "file_extension": ".py",
   "mimetype": "text/x-python",
   "name": "python",
   "nbconvert_exporter": "python",
   "pygments_lexer": "ipython3",
   "version": "3.11.5"
  }
 },
 "nbformat": 4,
 "nbformat_minor": 5
}
